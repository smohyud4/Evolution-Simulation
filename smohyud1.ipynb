{
  "cells": [
    {
      "cell_type": "markdown",
      "metadata": {
        "id": "view-in-github",
        "colab_type": "text"
      },
      "source": [
        "<a href=\"https://colab.research.google.com/github/smohyud4/Evolution-Simulation/blob/main/smohyud1.ipynb\" target=\"_parent\"><img src=\"https://colab.research.google.com/assets/colab-badge.svg\" alt=\"Open In Colab\"/></a>"
      ]
    },
    {
      "cell_type": "code",
      "source": [
        "!pip install bson"
      ],
      "metadata": {
        "id": "ifSoLXLTVtm0",
        "outputId": "1a17e336-cf7b-4b6b-f5af-2d7a9638a3ab",
        "colab": {
          "base_uri": "https://localhost:8080/"
        }
      },
      "execution_count": null,
      "outputs": [
        {
          "output_type": "stream",
          "name": "stdout",
          "text": [
            "Collecting bson\n",
            "  Downloading bson-0.5.10.tar.gz (10 kB)\n",
            "  Preparing metadata (setup.py) ... \u001b[?25l\u001b[?25hdone\n",
            "Requirement already satisfied: python-dateutil>=2.4.0 in /usr/local/lib/python3.12/dist-packages (from bson) (2.9.0.post0)\n",
            "Requirement already satisfied: six>=1.9.0 in /usr/local/lib/python3.12/dist-packages (from bson) (1.17.0)\n",
            "Building wheels for collected packages: bson\n",
            "  Building wheel for bson (setup.py) ... \u001b[?25l\u001b[?25hdone\n",
            "  Created wheel for bson: filename=bson-0.5.10-py3-none-any.whl size=11974 sha256=c6cd43d1acd128283ee2476b57a9a552293b0b2c7d9109b6922f8e28e614136e\n",
            "  Stored in directory: /root/.cache/pip/wheels/56/08/cb/40b0d49a41c8a6554999e3a07f61944be9aa7500d3a64faf61\n",
            "Successfully built bson\n",
            "Installing collected packages: bson\n",
            "Successfully installed bson-0.5.10\n"
          ]
        }
      ]
    },
    {
      "cell_type": "code",
      "source": [
        "!pip install pymongo"
      ],
      "metadata": {
        "id": "D3vZ2vxYV86C",
        "outputId": "a1108910-e239-4071-f602-ef7e0bc28656",
        "colab": {
          "base_uri": "https://localhost:8080/"
        }
      },
      "execution_count": null,
      "outputs": [
        {
          "output_type": "stream",
          "name": "stdout",
          "text": [
            "Collecting pymongo\n",
            "  Downloading pymongo-4.14.1-cp312-cp312-manylinux_2_17_x86_64.manylinux2014_x86_64.whl.metadata (22 kB)\n",
            "Collecting dnspython<3.0.0,>=1.16.0 (from pymongo)\n",
            "  Downloading dnspython-2.7.0-py3-none-any.whl.metadata (5.8 kB)\n",
            "Downloading pymongo-4.14.1-cp312-cp312-manylinux_2_17_x86_64.manylinux2014_x86_64.whl (1.7 MB)\n",
            "\u001b[2K   \u001b[90m━━━━━━━━━━━━━━━━━━━━━━━━━━━━━━━━━━━━━━━━\u001b[0m \u001b[32m1.7/1.7 MB\u001b[0m \u001b[31m34.2 MB/s\u001b[0m eta \u001b[36m0:00:00\u001b[0m\n",
            "\u001b[?25hDownloading dnspython-2.7.0-py3-none-any.whl (313 kB)\n",
            "\u001b[2K   \u001b[90m━━━━━━━━━━━━━━━━━━━━━━━━━━━━━━━━━━━━━━━━\u001b[0m \u001b[32m313.6/313.6 kB\u001b[0m \u001b[31m20.1 MB/s\u001b[0m eta \u001b[36m0:00:00\u001b[0m\n",
            "\u001b[?25hInstalling collected packages: dnspython, pymongo\n",
            "Successfully installed dnspython-2.7.0 pymongo-4.14.1\n"
          ]
        }
      ]
    },
    {
      "cell_type": "code",
      "execution_count": null,
      "metadata": {
        "id": "UVLRNFSvVajV",
        "outputId": "0ca16521-f2b8-494a-c081-d2aa016b4712",
        "colab": {
          "base_uri": "https://localhost:8080/"
        }
      },
      "outputs": [
        {
          "output_type": "stream",
          "name": "stdout",
          "text": [
            "IPython version:      %6.6s 7.34.0\n"
          ]
        }
      ],
      "source": [
        "import IPython\n",
        "import json\n",
        "# Numpy is a library for working with Arrays\n",
        "import numpy as np\n",
        "# SciPy implements many different numerical algorithms\n",
        "import scipy as sp\n",
        "# Pandas is good with data tables\n",
        "import pandas as pd\n",
        "# Module for plotting\n",
        "import matplotlib\n",
        "#BeautifulSoup parses HTML documents (once you get them via requests)\n",
        "import bs4\n",
        "# Nltk helps with some natural language tasks, like stemming\n",
        "import nltk\n",
        "# Bson is a binary format of json to be stored in databases\n",
        "import bson\n",
        "# Mongo is one of common nosql databases\n",
        "# it stores/searches json documents natively\n",
        "import pymongo\n",
        "print (\"IPython version:      %6.6s\", IPython.__version__)"
      ]
    },
    {
      "cell_type": "code",
      "execution_count": null,
      "metadata": {
        "id": "crZEbnGxVajW",
        "outputId": "21c2a63c-4200-4051-f05a-9383e9ae5742",
        "colab": {
          "base_uri": "https://localhost:8080/"
        }
      },
      "outputs": [
        {
          "output_type": "stream",
          "name": "stdout",
          "text": [
            "Make a 2 row x 3 column array of random numbers\n",
            "[[0.57293182 0.3531283  0.43804317]\n",
            " [0.37896457 0.11926147 0.42621377]]\n",
            "Add 5 to every element\n",
            "[[5.57293182 5.3531283  5.43804317]\n",
            " [5.37896457 5.11926147 5.42621377]]\n",
            "Get the first row\n",
            "[5.57293182 5.3531283  5.43804317]\n"
          ]
        }
      ],
      "source": [
        "#Here is what numpy can do\\n\",\n",
        "print (\"Make a 2 row x 3 column array of random numbers\")\n",
        "x = np.random.random((2, 3))\n",
        "print (x)\n",
        "\n",
        "#array operation (as in R)\n",
        "print (\"Add 5 to every element\")\n",
        "x = x + 5\n",
        "print (x)\n",
        "\n",
        "# get a slice (first row) (as in R)\n",
        "print (\"Get the first row\")\n",
        "print (x[0, :])"
      ]
    },
    {
      "cell_type": "code",
      "execution_count": null,
      "metadata": {
        "id": "vTcScKSNVajW",
        "outputId": "97a13fbc-c4e0-40af-8d50-c0ae42d0dce5",
        "colab": {
          "base_uri": "https://localhost:8080/"
        }
      },
      "outputs": [
        {
          "output_type": "execute_result",
          "data": {
            "text/plain": [
              "<function ndarray.any>"
            ]
          },
          "metadata": {},
          "execution_count": 6
        }
      ],
      "source": [
        "# IPython is quite modern: just press <TAB> at the end of the unfinished statement to see the documentation\n",
        "#       on possible completions.\n",
        "#       In the code cell below, type x.<TAB>, to find built-in operations for x\n",
        "x.any"
      ]
    },
    {
      "cell_type": "code",
      "execution_count": null,
      "metadata": {
        "id": "8DbGahJeVajX",
        "outputId": "eeb154d7-edb8-4fa5-e454-1bf961532e33",
        "colab": {
          "base_uri": "https://localhost:8080/",
          "height": 430
        }
      },
      "outputs": [
        {
          "output_type": "display_data",
          "data": {
            "text/plain": [
              "<Figure size 640x480 with 1 Axes>"
            ],
            "image/png": "[encoded data removed]"
          },
          "metadata": {}
        }
      ],
      "source": [
        "%matplotlib inline\n",
        "import matplotlib.pyplot as plt\n",
        "heads = np.random.binomial(500, .5, size=500)\n",
        "histogram = plt.hist(heads, bins=10)"
      ]
    },
    {
      "cell_type": "markdown",
      "metadata": {
        "collapsed": true,
        "id": "Cx0S6PAiVajX"
      },
      "source": [
        "# Task 1\n",
        "## write a program to produce Fibonacci numbers up to 1000000"
      ]
    },
    {
      "cell_type": "code",
      "execution_count": null,
      "metadata": {
        "id": "AaeuGAGDVajY",
        "colab": {
          "base_uri": "https://localhost:8080/"
        },
        "outputId": "409d1781-db26-47e6-a349-f8c69e9c9f85"
      },
      "outputs": [
        {
          "output_type": "stream",
          "name": "stdout",
          "text": [
            "[0, 1, 1, 2, 3, 5, 8, 13, 21, 34, 55, 89, 144, 233, 377, 610, 987, 1597, 2584, 4181, 6765, 10946, 17711, 28657, 46368, 75025, 121393, 196418, 317811, 514229, 832040]\n"
          ]
        }
      ],
      "source": [
        "sequence = [0, 1]\n",
        "\n",
        "while True:\n",
        "  current = sequence[len(sequence) - 1] + sequence[len(sequence) - 2]\n",
        "  if current > 1000000:\n",
        "    break\n",
        "  sequence.append(current);\n",
        "\n",
        "print(sequence)"
      ]
    },
    {
      "cell_type": "markdown",
      "metadata": {
        "id": "z9gy1-EaVajZ"
      },
      "source": [
        "# Task 2\n",
        "## write a program to simulate 1000 tosses of a fair coin (use np.random.binomial)\n",
        "## Calculate the mean and standard deviation of that sample"
      ]
    },
    {
      "cell_type": "code",
      "execution_count": null,
      "metadata": {
        "collapsed": true,
        "id": "7wXnhcIHVajZ",
        "colab": {
          "base_uri": "https://localhost:8080/"
        },
        "outputId": "acded079-3840-48ba-af80-d2ce25280a86"
      },
      "outputs": [
        {
          "output_type": "stream",
          "name": "stdout",
          "text": [
            "Mean: 0.516\n",
            "Standard Deviation: 0.499743934430424\n"
          ]
        }
      ],
      "source": [
        "result = np.random.binomial(n = 1, p = 0.5, size = 1000)\n",
        "print(f\"Mean: {np.mean(result)}\")\n",
        "print(f\"Standard Deviation: {np.std(result)}\")"
      ]
    },
    {
      "cell_type": "markdown",
      "metadata": {
        "id": "3ug709otVajZ"
      },
      "source": [
        "# Task 3\n",
        "## Produce a scatterplot of y = 0.5*x+e where x has gaussian (0, 5) and e has gaussian (0, 1) distributions\n",
        "### use numpy.random.normal to generate gaussian distribution"
      ]
    },
    {
      "cell_type": "code",
      "execution_count": null,
      "metadata": {
        "collapsed": true,
        "id": "GxrcF0NvVaja",
        "colab": {
          "base_uri": "https://localhost:8080/",
          "height": 449
        },
        "outputId": "430caf47-1b93-4c79-a76d-9efaa3e6eb84"
      },
      "outputs": [
        {
          "output_type": "display_data",
          "data": {
            "text/plain": [
              "<Figure size 640x480 with 1 Axes>"
            ],
            "image/png": "[encoded data removed]"
          },
          "metadata": {}
        }
      ],
      "source": [
        "import matplotlib.pyplot as plt\n",
        "x = np.random.normal(0, 5, size = 500)\n",
        "e = np.random.normal(0, 1, size = 500)\n",
        "y = 0.5 * x + e\n",
        "\n",
        "plt.scatter(x, y)\n",
        "plt.xlabel(\"x g(0, 5) - e g(0, 1)\")\n",
        "plt.ylabel(\"y = 0.5*x + e\")\n",
        "plt.show()"
      ]
    }
  ],
  "metadata": {
    "kernelspec": {
      "display_name": "Python 3",
      "language": "python",
      "name": "python3"
    },
    "language_info": {
      "codemirror_mode": {
        "name": "ipython",
        "version": 3
      },
      "file_extension": ".py",
      "mimetype": "text/x-python",
      "name": "python",
      "nbconvert_exporter": "python",
      "pygments_lexer": "ipython3",
      "version": "3.5.2"
    },
    "colab": {
      "provenance": [],
      "include_colab_link": true
    }
  },
  "nbformat": 4,
  "nbformat_minor": 0
}